{
 "cells": [
  {
   "cell_type": "code",
   "execution_count": 2,
   "id": "ce4029b7",
   "metadata": {},
   "outputs": [],
   "source": [
    "from flask import Flask\n",
    "app = Flask(__name__)\n",
    "\n",
    "@app.route(\"/\")\n",
    "def hello():\n",
    "    return \"hello world!\"\n",
    "    app.run()"
   ]
  },
  {
   "cell_type": "code",
   "execution_count": 3,
   "id": "47124ee0",
   "metadata": {},
   "outputs": [
    {
     "ename": "NameError",
     "evalue": "name 'MyFrame' is not defined",
     "output_type": "error",
     "traceback": [
      "\u001b[1;31m---------------------------------------------------------------------------\u001b[0m",
      "\u001b[1;31mNameError\u001b[0m                                 Traceback (most recent call last)",
      "\u001b[1;32m<ipython-input-3-d2b388790f39>\u001b[0m in \u001b[0;36m<module>\u001b[1;34m\u001b[0m\n\u001b[0;32m      1\u001b[0m \u001b[1;32mimport\u001b[0m \u001b[0mwx\u001b[0m\u001b[1;33m\u001b[0m\u001b[1;33m\u001b[0m\u001b[0m\n\u001b[0;32m      2\u001b[0m \u001b[1;33m\u001b[0m\u001b[0m\n\u001b[1;32m----> 3\u001b[1;33m \u001b[1;32mclass\u001b[0m \u001b[0mMyFrame\u001b[0m\u001b[1;33m(\u001b[0m\u001b[0mwx\u001b[0m\u001b[1;33m.\u001b[0m\u001b[0mFrame\u001b[0m\u001b[1;33m)\u001b[0m\u001b[1;33m:\u001b[0m\u001b[1;33m\u001b[0m\u001b[1;33m\u001b[0m\u001b[0m\n\u001b[0m\u001b[0;32m      4\u001b[0m     \u001b[1;32mdef\u001b[0m \u001b[0m_init_\u001b[0m\u001b[1;33m(\u001b[0m\u001b[0mself\u001b[0m\u001b[1;33m)\u001b[0m\u001b[1;33m:\u001b[0m\u001b[1;33m\u001b[0m\u001b[1;33m\u001b[0m\u001b[0m\n\u001b[0;32m      5\u001b[0m         wx.Frame._init_(self, None, pos= wx.DefaultPosition, size= wx.Size(450,100), \n",
      "\u001b[1;32m<ipython-input-3-d2b388790f39>\u001b[0m in \u001b[0;36mMyFrame\u001b[1;34m()\u001b[0m\n\u001b[0;32m     25\u001b[0m     \u001b[1;32mif\u001b[0m \u001b[0m__name__\u001b[0m \u001b[1;33m==\u001b[0m \u001b[1;34m\"__main__\"\u001b[0m\u001b[1;33m:\u001b[0m\u001b[1;33m\u001b[0m\u001b[1;33m\u001b[0m\u001b[0m\n\u001b[0;32m     26\u001b[0m         \u001b[0mapp\u001b[0m \u001b[1;33m=\u001b[0m \u001b[0mwx\u001b[0m\u001b[1;33m.\u001b[0m\u001b[0mApp\u001b[0m\u001b[1;33m(\u001b[0m\u001b[1;32mTrue\u001b[0m\u001b[1;33m)\u001b[0m\u001b[1;33m\u001b[0m\u001b[1;33m\u001b[0m\u001b[0m\n\u001b[1;32m---> 27\u001b[1;33m         \u001b[0mframe\u001b[0m \u001b[1;33m=\u001b[0m \u001b[0mMyFrame\u001b[0m\u001b[1;33m(\u001b[0m\u001b[1;33m)\u001b[0m\u001b[1;33m\u001b[0m\u001b[1;33m\u001b[0m\u001b[0m\n\u001b[0m\u001b[0;32m     28\u001b[0m         \u001b[0mapp\u001b[0m\u001b[1;33m.\u001b[0m\u001b[0mMainLoop\u001b[0m\u001b[1;33m(\u001b[0m\u001b[1;33m)\u001b[0m\u001b[1;33m\u001b[0m\u001b[1;33m\u001b[0m\u001b[0m\n",
      "\u001b[1;31mNameError\u001b[0m: name 'MyFrame' is not defined"
     ]
    }
   ],
   "source": [
    "import wx\n",
    "        \n",
    "class MyFrame(wx.Frame):\n",
    "    def _init_(self):\n",
    "        wx.Frame._init_(self, None, pos= wx.DefaultPosition, size= wx.Size(450,100), \n",
    "                        style= wx.MINIMIZE_BOX | wx.SYSTEM_MENU | wx.CAPTION | wx.CLOSE_BOX | wx.CLIP_CHILDREN,\n",
    "                       title= \"ADEX\")\n",
    "        panel= wx.Panel(self)\n",
    "        my_sizer= wx.BoxSizer(wx.VERTICAL)\n",
    "        lbl= wx.StaticText(panel, label= \"Hello!! I am ADEX the virtual assistant. How can i help you?\")\n",
    "        my_sizer.Add(lbl, 0, wx.ALL, 5)\n",
    "        self.txt= wx.TextCtrl(panel, style= wx.TE_PROCESS_ENTER, size= (400,30))\n",
    "        self.txt.SetFocus()\n",
    "        self.txt.Bind(wx.EVT_TEXT_ENTER, self.onEnter)\n",
    "        my_sizer.Add(self.txt, 0, wx.ALL, 5)\n",
    "        panel.SetSizer(my_sizer)\n",
    "        self.Show()\n",
    "                \n",
    "    def OnEnter(self, event):\n",
    "        input= self.txt.GetValue()\n",
    "        input= input.lower()\n",
    "        print (\"It worked!\")\n",
    "\n",
    "        \n",
    "    if __name__ == \"__main__\":\n",
    "        app = wx.App(True)\n",
    "        frame = MyFrame()\n",
    "        app.MainLoop()"
   ]
  },
  {
   "cell_type": "code",
   "execution_count": null,
   "id": "6e9061b3",
   "metadata": {},
   "outputs": [],
   "source": []
  }
 ],
 "metadata": {
  "kernelspec": {
   "display_name": "Python 3",
   "language": "python",
   "name": "python3"
  },
  "language_info": {
   "codemirror_mode": {
    "name": "ipython",
    "version": 3
   },
   "file_extension": ".py",
   "mimetype": "text/x-python",
   "name": "python",
   "nbconvert_exporter": "python",
   "pygments_lexer": "ipython3",
   "version": "3.9.4"
  }
 },
 "nbformat": 4,
 "nbformat_minor": 5
}
